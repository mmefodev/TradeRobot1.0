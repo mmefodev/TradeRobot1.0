{
 "cells": [
  {
   "cell_type": "code",
   "execution_count": 1,
   "metadata": {
    "colab": {
     "base_uri": "https://localhost:8080/"
    },
    "executionInfo": {
     "elapsed": 4266,
     "status": "ok",
     "timestamp": 1620500538343,
     "user": {
      "displayName": "Mihail Mefodev",
      "photoUrl": "https://lh3.googleusercontent.com/a-/AOh14GgaPJW2NiEqBC4mcnM37JDRYyeBwIuZUBTi4y32nQ=s64",
      "userId": "16231356508883385882"
     },
     "user_tz": -180
    },
    "id": "hi5bV4xp-5lJ",
    "outputId": "d6199a57-93a7-402e-ba61-58215aefb032"
   },
   "outputs": [],
   "source": [
    "import numpy as np\n",
    "import pandas as pd\n",
    "import time\n",
    "import os\n",
    "import datetime as dt\n",
    "import xgboost as xgb\n",
    "import lightgbm as lgbm\n",
    "import torch\n",
    "from sklearn import linear_model\n",
    "from sklearn.model_selection import train_test_split\n",
    "from sklearn.metrics import confusion_matrix, mean_squared_error\n",
    "import joblib as jl\n",
    "import asyncio\n",
    "import catboost\n",
    "import matplotlib.pyplot as plt"
   ]
  },
  {
   "cell_type": "code",
   "execution_count": 54,
   "metadata": {
    "colab": {
     "base_uri": "https://localhost:8080/"
    },
    "executionInfo": {
     "elapsed": 872,
     "status": "ok",
     "timestamp": 1620505378620,
     "user": {
      "displayName": "Mihail Mefodev",
      "photoUrl": "https://lh3.googleusercontent.com/a-/AOh14GgaPJW2NiEqBC4mcnM37JDRYyeBwIuZUBTi4y32nQ=s64",
      "userId": "16231356508883385882"
     },
     "user_tz": -180
    },
    "id": "sw5ATWTb-5lV",
    "outputId": "60501dda-f17d-462f-afb1-bb36d0060003"
   },
   "outputs": [
    {
     "data": {
      "text/plain": [
       "array(['df_X_ABNB 2021-05-10 3 sec.csv', 'df_X_ABNB 2021-05-11 3 sec.csv',\n",
       "       'df_X_ABNB 2021-05-12 1 3 sec.csv',\n",
       "       'df_X_ABNB 2021-05-12 2 3 sec.csv',\n",
       "       'df_X_ABNB 2021-05-13 3 sec.csv', 'df_X_MRNA 2021-05-10 3 sec.csv',\n",
       "       'df_X_MRNA 2021-05-11 3 sec.csv', 'df_X_MRNA 2021-05-12 3 sec.csv',\n",
       "       'df_X_MRNA 2021-05-13 3 sec.csv', 'df_X_SPCE 2021-05-10 3 sec.csv',\n",
       "       'df_X_SPCE 2021-05-11 3 sec.csv', 'df_X_SPCE 2021-05-12 3 sec.csv',\n",
       "       'df_X_SPCE 2021-05-13 3 sec.csv'], dtype='<U32')"
      ]
     },
     "execution_count": 54,
     "metadata": {},
     "output_type": "execute_result"
    }
   ],
   "source": [
    "# Смотрим на список collected csv-файлов\n",
    "path0 = 'D:\\\\Python Projects\\\\Stonks\\\\Tinkoff Online Trading\\\\Data'\n",
    "path1 = 'D:\\\\Python Projects\\\\Stonks\\\\Tinkoff Online Trading\\\\Data\\\\Before 2021-04-20'\n",
    "path2 = 'D:\\\\Python Projects\\\\Stonks\\\\Tinkoff Online Trading\\\\Data\\\\ABNB 2021-04-20'\n",
    "path3 = 'D:\\\\Python Projects\\\\Stonks\\\\Tinkoff Online Trading\\\\Data\\\\ABNB before 2021-04-20'\n",
    "path4 = 'D:\\\\Python Projects\\\\Stonks\\\\Tinkoff Online Trading\\\\Data\\\\ABNB'\n",
    "path5 = 'D:\\\\Python Projects\\\\Stonks\\\\Tinkoff Online Trading\\\\Data\\\\ABNB 2021-05-10'\n",
    "path6 = 'D:\\\\Python Projects\\\\Stonks\\\\Tinkoff Online Trading\\\\Data\\\\MRNA 2021-05-10'\n",
    "path7 = 'D:\\\\Python Projects\\\\Stonks\\\\Tinkoff Online Trading\\\\Data\\\\SPCE 2021-05-10'\n",
    "path8 = 'D:\\\\Python Projects\\\\Stonks\\\\Tinkoff Online Trading\\\\Data\\\\2021-05-10'\n",
    "path9 = 'D:\\\\Python Projects\\\\Stonks\\\\Tinkoff Online Trading\\\\Data\\\\2021-05-11'\n",
    "path10 = 'D:\\\\Python Projects\\\\Stonks\\\\Tinkoff Online Trading\\\\Data\\\\2021-05-12'\n",
    "path11 = 'D:\\\\Python Projects\\\\Stonks\\\\Tinkoff Online Trading\\\\Data\\\\2021-05-13'\n",
    "path12 = 'D:\\\\Python Projects\\\\Stonks\\\\Tinkoff Online Trading\\\\Data\\\\2021-05-10 - 2021-05-13'\n",
    "is_csv = [x.endswith('.csv') for x in os.listdir(path12)]\n",
    "np.array(os.listdir(path12))[is_csv]"
   ]
  },
  {
   "cell_type": "code",
   "execution_count": 55,
   "metadata": {
    "executionInfo": {
     "elapsed": 74957,
     "status": "ok",
     "timestamp": 1620505462403,
     "user": {
      "displayName": "Mihail Mefodev",
      "photoUrl": "https://lh3.googleusercontent.com/a-/AOh14GgaPJW2NiEqBC4mcnM37JDRYyeBwIuZUBTi4y32nQ=s64",
      "userId": "16231356508883385882"
     },
     "user_tz": -180
    },
    "id": "llwUGmgV-5lY"
   },
   "outputs": [],
   "source": [
    "# Списки имен df и самих df\n",
    "dfs = []\n",
    "dfs_list = []\n",
    "for file_name in os.listdir(path12):\n",
    "    if file_name.endswith('.csv'):\n",
    "        var_name = file_name.split('.')[0].replace(' ','_').replace('-','_')\n",
    "        dfs.append(var_name)\n",
    "        globals()[var_name] = pd.read_csv(path12 + '\\\\' + file_name)     \n",
    "        dfs_list.append(globals()[var_name])"
   ]
  },
  {
   "cell_type": "code",
   "execution_count": 56,
   "metadata": {
    "executionInfo": {
     "elapsed": 75364,
     "status": "ok",
     "timestamp": 1620505464964,
     "user": {
      "displayName": "Mihail Mefodev",
      "photoUrl": "https://lh3.googleusercontent.com/a-/AOh14GgaPJW2NiEqBC4mcnM37JDRYyeBwIuZUBTi4y32nQ=s64",
      "userId": "16231356508883385882"
     },
     "user_tz": -180
    },
    "id": "_QTi3ZmE-5lZ"
   },
   "outputs": [],
   "source": [
    "# Нормальный временной столбец для всех df\n",
    "for name in dfs:\n",
    "    date_strs = []\n",
    "    cur_df = globals()[name]\n",
    "    #print(cur_df)\n",
    "    if str(cur_df.iloc[0,0]).endswith(')'):\n",
    "        date_lists = [x.replace('(','').replace(')','').replace(' ','').split(',') for x in cur_df.iloc[:,0]]\n",
    "        for date_list in date_lists:\n",
    "            date_strs.append(date_list[3]+':'+date_list[4]+':'+date_list[5]+' '+date_list[2]+'.'+date_list[1]+'.'+date_list[0])\n",
    "        globals()[name].iloc[:,0] = date_strs\n",
    "        globals()[name].iloc[:,0] = pd.to_datetime(globals()[name].iloc[:,0])\n",
    "    else:\n",
    "        globals()[name].iloc[:,0] = pd.to_datetime(globals()[name].iloc[:,0])"
   ]
  },
  {
   "cell_type": "code",
   "execution_count": 57,
   "metadata": {
    "executionInfo": {
     "elapsed": 75291,
     "status": "ok",
     "timestamp": 1620505466076,
     "user": {
      "displayName": "Mihail Mefodev",
      "photoUrl": "https://lh3.googleusercontent.com/a-/AOh14GgaPJW2NiEqBC4mcnM37JDRYyeBwIuZUBTi4y32nQ=s64",
      "userId": "16231356508883385882"
     },
     "user_tz": -180
    },
    "id": "exaKLHUC-5la"
   },
   "outputs": [],
   "source": [
    "# Делаем столбец с интервалом и индикатор \"хорошей\" строки\n",
    "for name in dfs:\n",
    "    df = globals()[name]\n",
    "    if '3_sec' not in name:\n",
    "        df.rename(columns={'Unnamed: 0': 'Timestamp'},inplace=True)\n",
    "        df['Next_timestamp'] = list(df.iloc[1:,0])+[pd.to_datetime('2000-01-01')]\n",
    "        df['Timedelta'] = df['Next_timestamp'] - df['Timestamp']\n",
    "        df['NNext_timestamp'] = list(df.iloc[2:,0])+[pd.to_datetime('2000-01-01'),pd.to_datetime('2000-01-01')]\n",
    "        df['TTimedelta'] = df['NNext_timestamp'] - df['Next_timestamp']\n",
    "        df['NNNext_timestamp'] = list(df.iloc[3:,0])+\\\n",
    "            [pd.to_datetime('2000-01-01'),pd.to_datetime('2000-01-01'),pd.to_datetime('2000-01-01')]\n",
    "        df['TTTimedelta'] = df['NNNext_timestamp'] - df['NNext_timestamp']\n",
    "\n",
    "        df['Good?'] = ((df['Timedelta']>=dt.timedelta(seconds=59)) & (df['Timedelta']<=dt.timedelta(minutes=1,seconds=1)) &\n",
    "         (df['TTimedelta']>=dt.timedelta(seconds=59)) & (df['TTimedelta']<=dt.timedelta(minutes=1,seconds=1)) &\n",
    "         (df['TTTimedelta']>=dt.timedelta(seconds=59)) & (df['TTTimedelta']<=dt.timedelta(minutes=1,seconds=1))\n",
    "        )\n",
    "    else:\n",
    "        df.rename(columns={'Unnamed: 0': 'Timestamp'},inplace=True)\n",
    "        df['Next_timestamp'] = list(df.iloc[20:,0])+[pd.to_datetime('2000-01-01')]*20\n",
    "        df['Timedelta'] = df['Next_timestamp'] - df['Timestamp']\n",
    "        df['NNext_timestamp'] = list(df.iloc[40:,0])+[pd.to_datetime('2000-01-01')]*40\n",
    "        df['TTimedelta'] = df['NNext_timestamp'] - df['Next_timestamp']\n",
    "        df['NNNext_timestamp'] = list(df.iloc[60:,0])+[pd.to_datetime('2000-01-01')]*60\n",
    "        df['TTTimedelta'] = df['NNNext_timestamp'] - df['NNext_timestamp']\n",
    "\n",
    "        df['Good?'] = ((df['Timedelta']>=dt.timedelta(seconds=59)) & (df['Timedelta']<=dt.timedelta(minutes=1,seconds=1)) &\n",
    "         (df['TTimedelta']>=dt.timedelta(seconds=59)) & (df['TTimedelta']<=dt.timedelta(minutes=1,seconds=1)) &\n",
    "         (df['TTTimedelta']>=dt.timedelta(seconds=59)) & (df['TTTimedelta']<=dt.timedelta(minutes=1,seconds=1))\n",
    "        )"
   ]
  },
  {
   "cell_type": "code",
   "execution_count": 58,
   "metadata": {
    "executionInfo": {
     "elapsed": 73082,
     "status": "ok",
     "timestamp": 1620505466078,
     "user": {
      "displayName": "Mihail Mefodev",
      "photoUrl": "https://lh3.googleusercontent.com/a-/AOh14GgaPJW2NiEqBC4mcnM37JDRYyeBwIuZUBTi4y32nQ=s64",
      "userId": "16231356508883385882"
     },
     "user_tz": -180
    },
    "id": "cjOnDD4N-5lc"
   },
   "outputs": [],
   "source": [
    "# Список номеров столбцов\n",
    "price_cols = [1+41*k for k in range(20)]\n",
    "orderbook_cols = [x for x in list(range(1,821)) if x not in price_cols]"
   ]
  },
  {
   "cell_type": "code",
   "execution_count": 59,
   "metadata": {
    "executionInfo": {
     "elapsed": 18520,
     "status": "ok",
     "timestamp": 1620505484628,
     "user": {
      "displayName": "Mihail Mefodev",
      "photoUrl": "https://lh3.googleusercontent.com/a-/AOh14GgaPJW2NiEqBC4mcnM37JDRYyeBwIuZUBTi4y32nQ=s64",
      "userId": "16231356508883385882"
     },
     "user_tz": -180
    },
    "id": "wQPFa0yr-5lc"
   },
   "outputs": [],
   "source": [
    "# Делаем список из массивов numpy\n",
    "nps_list = []\n",
    "for df in dfs_list:\n",
    "    nps_list.append(np.array(df))\n",
    "# Добавляем в каждый массив данные для будущего вектора Y\n",
    "i=0\n",
    "for arr in nps_list:\n",
    "    if '3_sec' not in dfs[i]:\n",
    "        arr = np.hstack([arr,np.vstack([arr[1:,price_cols],np.zeros((1,len(price_cols)))])])\n",
    "        arr = np.hstack([arr,np.vstack([arr[2:,price_cols],np.zeros((2,len(price_cols)))])])\n",
    "        arr = np.hstack([arr,np.vstack([arr[3:,price_cols],np.zeros((3,len(price_cols)))])])\n",
    "    else:\n",
    "        arr = np.hstack([arr,np.vstack([arr[20:,price_cols],np.zeros((20,len(price_cols)))])])\n",
    "        arr = np.hstack([arr,np.vstack([arr[40:,price_cols],np.zeros((40,len(price_cols)))])])\n",
    "        arr = np.hstack([arr,np.vstack([arr[60:,price_cols],np.zeros((60,len(price_cols)))])])\n",
    "    nps_list[i] = arr\n",
    "    i+=1"
   ]
  },
  {
   "cell_type": "code",
   "execution_count": 9,
   "metadata": {
    "executionInfo": {
     "elapsed": 293210,
     "status": "ok",
     "timestamp": 1620498813057,
     "user": {
      "displayName": "Mihail Mefodev",
      "photoUrl": "https://lh3.googleusercontent.com/a-/AOh14GgaPJW2NiEqBC4mcnM37JDRYyeBwIuZUBTi4y32nQ=s64",
      "userId": "16231356508883385882"
     },
     "user_tz": -180
    },
    "id": "mZOUCS89-5ld"
   },
   "outputs": [],
   "source": [
    "# Либо это\n",
    "big_arr = np.vstack(nps_list)\n",
    "data = big_arr[np.array(big_arr[:,827],dtype=bool)]\n",
    "data_grouped = np.apply_along_axis(\n",
    "        lambda y: np.apply_along_axis(lambda x: np.sum(x),1,y[np.hsplit(np.array(orderbook_cols),200)]),1,data\n",
    "        )\n",
    "data_grouped = np.hstack([data_grouped,np.apply_along_axis(lambda x: x[price_cols+list(range(828,888))],1,data)])"
   ]
  },
  {
   "cell_type": "code",
   "execution_count": 60,
   "metadata": {
    "executionInfo": {
     "elapsed": 421225,
     "status": "ok",
     "timestamp": 1620505887345,
     "user": {
      "displayName": "Mihail Mefodev",
      "photoUrl": "https://lh3.googleusercontent.com/a-/AOh14GgaPJW2NiEqBC4mcnM37JDRYyeBwIuZUBTi4y32nQ=s64",
      "userId": "16231356508883385882"
     },
     "user_tz": -180
    },
    "id": "sqTcgWBN-5le"
   },
   "outputs": [],
   "source": [
    "# Либо это\n",
    "big_arr = np.vstack(nps_list)\n",
    "data = big_arr[np.array(big_arr[:,827],dtype=bool)]\n",
    "\n",
    "part_split_cols = np.array([3,6,9,12,15,18,20])\n",
    "orderbook_split_cols = [part_split_cols]\n",
    "for i in list(range(39)):\n",
    "    part_split_cols = part_split_cols+20\n",
    "    orderbook_split_cols.append(list(part_split_cols))\n",
    "orderbook_split_cols = np.array(orderbook_split_cols).ravel()\n",
    "orderbook_split_cols = np.split(orderbook_cols,orderbook_split_cols)[:-1]\n",
    "orderbook_split_cols_ = []\n",
    "for i in orderbook_split_cols:\n",
    "    if len(i)==3:\n",
    "        orderbook_split_cols_.append(i)\n",
    "    if len(i)==2:\n",
    "        orderbook_split_cols_.append(np.hstack([i,np.array([data.shape[1]])]))\n",
    "\n",
    "data_grouped = np.apply_along_axis(\n",
    "        lambda y: np.apply_along_axis(lambda x: np.sum(x),1,y[orderbook_split_cols_]),1,np.hstack([data,np.zeros((data.shape[0],1))])\n",
    "        )\n",
    "data_grouped = np.hstack([data_grouped,np.apply_along_axis(lambda x: x[price_cols+list(range(828,888))],1,data)])"
   ]
  },
  {
   "cell_type": "code",
   "execution_count": 61,
   "metadata": {
    "executionInfo": {
     "elapsed": 421221,
     "status": "ok",
     "timestamp": 1620505887350,
     "user": {
      "displayName": "Mihail Mefodev",
      "photoUrl": "https://lh3.googleusercontent.com/a-/AOh14GgaPJW2NiEqBC4mcnM37JDRYyeBwIuZUBTi4y32nQ=s64",
      "userId": "16231356508883385882"
     },
     "user_tz": -180
    },
    "id": "aB0-tSr3-5lf"
   },
   "outputs": [],
   "source": [
    "new_price_cols = list(range(data_grouped.shape[1]-80,data_grouped.shape[1]-60))\n",
    "new_orderbook_cols = list(range(data_grouped.shape[1]-80))"
   ]
  },
  {
   "cell_type": "code",
   "execution_count": 10,
   "metadata": {
    "executionInfo": {
     "elapsed": 421214,
     "status": "ok",
     "timestamp": 1620505887353,
     "user": {
      "displayName": "Mihail Mefodev",
      "photoUrl": "https://lh3.googleusercontent.com/a-/AOh14GgaPJW2NiEqBC4mcnM37JDRYyeBwIuZUBTi4y32nQ=s64",
      "userId": "16231356508883385882"
     },
     "user_tz": -180
    },
    "id": "KM9jWqcN-5lg"
   },
   "outputs": [],
   "source": [
    "# Функция нормализации массива\n",
    "def normalize(arr_orig,price_cols,orderbook_cols):\n",
    "    arr = arr_orig.copy()\n",
    "    arr[:,price_cols+list(range(arr.shape[1]-60,arr.shape[1]))] =\\\n",
    "    np.apply_along_axis(lambda x: x[price_cols+list(range(arr.shape[1]-60,arr.shape[1]))]/x[price_cols[-1]],1,arr)\n",
    "    arr[:,orderbook_cols] =\\\n",
    "    np.apply_along_axis(lambda x: x[orderbook_cols]/np.average(np.array(x[orderbook_cols],dtype=np.float64)),1,arr)\n",
    "    return arr"
   ]
  },
  {
   "cell_type": "code",
   "execution_count": 62,
   "metadata": {
    "executionInfo": {
     "elapsed": 476988,
     "status": "ok",
     "timestamp": 1620505943137,
     "user": {
      "displayName": "Mihail Mefodev",
      "photoUrl": "https://lh3.googleusercontent.com/a-/AOh14GgaPJW2NiEqBC4mcnM37JDRYyeBwIuZUBTi4y32nQ=s64",
      "userId": "16231356508883385882"
     },
     "user_tz": -180
    },
    "id": "9vNyA_1L-5lh"
   },
   "outputs": [],
   "source": [
    "# Подготавливаем окончательный X \n",
    "#big_arr = np.vstack(nps_list)\n",
    "#big_arr = np.delete(big_arr,8312,0)\n",
    "#big_arr_normalized = normalize(big_arr)\n",
    "#data = big_arr[np.array(big_arr[:,827],dtype=bool)]\n",
    "data_grouped_normalized = normalize(data_grouped,new_price_cols,new_orderbook_cols)\n",
    "X = data_grouped_normalized[:,list(range(data_grouped.shape[1]-60))]"
   ]
  },
  {
   "cell_type": "code",
   "execution_count": 12,
   "metadata": {
    "executionInfo": {
     "elapsed": 476980,
     "status": "ok",
     "timestamp": 1620505943139,
     "user": {
      "displayName": "Mihail Mefodev",
      "photoUrl": "https://lh3.googleusercontent.com/a-/AOh14GgaPJW2NiEqBC4mcnM37JDRYyeBwIuZUBTi4y32nQ=s64",
      "userId": "16231356508883385882"
     },
     "user_tz": -180
    },
    "id": "X3SDCJWPhZHA"
   },
   "outputs": [],
   "source": [
    "# Функция подготавливающая y для классификатора\n",
    "def y_to_classes(y):\n",
    "    if y:\n",
    "        y_class=1\n",
    "    else:\n",
    "        y_class=0\n",
    "    return int(y_class)"
   ]
  },
  {
   "cell_type": "code",
   "execution_count": 65,
   "metadata": {},
   "outputs": [],
   "source": [
    "# Несколько вариантов вектора y (целевой переменной)\n",
    "# Вектор - Разница максимальной цены за 3 минуты с последней ценой\n",
    "y = np.apply_along_axis(lambda x: np.max(x)-1,1,np.array(data_grouped_normalized[:,list(range(data_grouped.shape[1]-60,data_grouped.shape[1]-40))]))\n",
    "# Вектор - Разница минимальной цены за 3 минуты с последней ценой\n",
    "y_min = np.apply_along_axis(lambda x: np.min(x)-1,1,np.array(data_grouped_normalized[:,list(range(data_grouped.shape[1]-60,data_grouped.shape[1]-40))]))\n",
    "# Вектор для Классификатора\n",
    "y_bool1 = (y>0.004)\n",
    "y_class1 = np.vectorize(y_to_classes)(y_bool1)\n",
    "\n",
    "y_bool2 = (y>0.005)\n",
    "y_class2 = np.vectorize(y_to_classes)(y_bool2)\n",
    "\n",
    "y_bool3 = (y>0.006)\n",
    "y_class3 = np.vectorize(y_to_classes)(y_bool3)\n",
    "\n",
    "y_bool_min0 = (y_min>-0.0015)\n",
    "y_min_class0 = np.vectorize(y_to_classes)(y_bool_min0)\n",
    "\n",
    "y_bool_min1 = (y_min>-0.002)\n",
    "y_min_class1 = np.vectorize(y_to_classes)(y_bool_min1)\n",
    "\n",
    "y_bool_min2 = (y_min>-0.003)\n",
    "y_min_class2 = np.vectorize(y_to_classes)(y_bool_min2)\n",
    "\n",
    "y_bool_max_min1 = (y>0.004) & (y_min>-0.0015)\n",
    "y_max_min_class1 = np.vectorize(y_to_classes)(y_bool_max_min1)\n",
    "\n",
    "y_bool_max_min2 = (y>0.005) & (y_min>-0.0015)\n",
    "y_max_min_class2 = np.vectorize(y_to_classes)(y_bool_max_min2)"
   ]
  },
  {
   "cell_type": "code",
   "execution_count": 16,
   "metadata": {},
   "outputs": [],
   "source": [
    "X_train1,X_test1,y_max_train1,y_max_test1 = train_test_split(X,y,test_size=0.25,shuffle=False)\n",
    "X_train1,X_test1,y_min_train1,y_min_test1 = train_test_split(X,y_min,test_size=0.25,shuffle=False)\n",
    "X_train2,X_test2,y_max_train2,y_max_test2 = train_test_split(X,y,test_size=0.2,shuffle=False)\n",
    "X_train2,X_test2,y_min_train2,y_min_test2 = train_test_split(X,y_min,test_size=0.2,shuffle=False)\n",
    "X_train3,X_test3,y_max_train3,y_max_test3 = train_test_split(X,y,test_size=0.15,shuffle=False)\n",
    "X_train3,X_test3,y_min_train3,y_min_test3 = train_test_split(X,y_min,test_size=0.15,shuffle=False)"
   ]
  },
  {
   "cell_type": "code",
   "execution_count": 48,
   "metadata": {},
   "outputs": [],
   "source": [
    "X_train = X\n",
    "# 30 sec\n",
    "y_train1 = y_class1\n",
    "y_train2 = y_class2\n",
    "y_train3 = y_class3\n",
    "y_min_train0 = y_min_class0\n",
    "y_min_train1 = y_min_class1\n",
    "y_min_train2 = y_min_class2\n",
    "y_max_min_train1 = y_max_min_class1\n",
    "y_max_min_train2 = y_max_min_class2\n",
    "y_max_train = y\n",
    "y_min_train = y_min"
   ]
  },
  {
   "cell_type": "code",
   "execution_count": 51,
   "metadata": {},
   "outputs": [],
   "source": [
    "# 1 min\n",
    "y_train1_ = y_class1\n",
    "y_train2_ = y_class2\n",
    "y_train3_ = y_class3\n",
    "y_min_train0_ = y_min_class0\n",
    "y_min_train1_ = y_min_class1\n",
    "y_min_train2_ = y_min_class2\n",
    "y_max_min_train1_ = y_max_min_class1\n",
    "y_max_min_train2_ = y_max_min_class2\n",
    "y_max_train_ = y\n",
    "y_min_train_ = y_min"
   ]
  },
  {
   "cell_type": "code",
   "execution_count": 64,
   "metadata": {},
   "outputs": [],
   "source": [
    "X_test = X\n",
    "# 30 sec\n",
    "y_test1 = y_class1\n",
    "y_test2 = y_class2\n",
    "y_test3 = y_class3\n",
    "y_min_test0 = y_min_class0\n",
    "y_min_test1 = y_min_class1\n",
    "y_min_test2 = y_min_class2\n",
    "y_max_min_test1 = y_max_min_class1\n",
    "y_max_min_test2 = y_max_min_class2\n",
    "y_max_test = y\n",
    "y_min_test = y_min"
   ]
  },
  {
   "cell_type": "code",
   "execution_count": 66,
   "metadata": {},
   "outputs": [],
   "source": [
    "# 1 min\n",
    "y_test1_ = y_class1\n",
    "y_test2_ = y_class2\n",
    "y_test3_ = y_class3\n",
    "y_min_test0_ = y_min_class0\n",
    "y_min_test1_ = y_min_class1\n",
    "y_min_test2_ = y_min_class2\n",
    "y_max_min_test1_ = y_max_min_class1\n",
    "y_max_min_test2_ = y_max_min_class2\n",
    "y_max_test_ = y\n",
    "y_min_test_ = y_min"
   ]
  },
  {
   "cell_type": "code",
   "execution_count": 67,
   "metadata": {
    "executionInfo": {
     "elapsed": 272535,
     "status": "ok",
     "timestamp": 1620503865812,
     "user": {
      "displayName": "Mihail Mefodev",
      "photoUrl": "https://lh3.googleusercontent.com/a-/AOh14GgaPJW2NiEqBC4mcnM37JDRYyeBwIuZUBTi4y32nQ=s64",
      "userId": "16231356508883385882"
     },
     "user_tz": -180
    },
    "id": "NjDDZ1dS-5lj"
   },
   "outputs": [],
   "source": [
    "del X, y, dfs_list, nps_list, big_arr, data, data_grouped, data_grouped_normalized"
   ]
  },
  {
   "cell_type": "markdown",
   "metadata": {
    "id": "v2rbzW_y-5lk"
   },
   "source": [
    "Данные готовы. Переходим к обучению"
   ]
  },
  {
   "cell_type": "markdown",
   "metadata": {
    "id": "ryGtUdrm-5l7"
   },
   "source": [
    "### Классификация!"
   ]
  },
  {
   "cell_type": "markdown",
   "metadata": {
    "id": "0t5v-zoDosKv"
   },
   "source": [
    "Unbalanced data"
   ]
  },
  {
   "cell_type": "code",
   "execution_count": 16,
   "metadata": {},
   "outputs": [],
   "source": [
    "def display_summary(true,pred):\n",
    "    tn, fp, fn, tp = confusion_matrix(true,pred).ravel()\n",
    "    print('confusion matrix')\n",
    "    print(np.array([[tp,fp],[fn,tn]]))\n",
    "    print('sensitivity is %f',1.*tp/(tp+fn))\n",
    "    print('specificity is %f',1.*tn/(tn+fp))\n",
    "    print('accuracy is %f',1.*(tp+tn)/(tp+tn+fp+fn))\n",
    "    print('balanced accuracy is %',1./2*(1.*tp/(tp+fn)+1.*tn/(tn+fp)))"
   ]
  },
  {
   "cell_type": "code",
   "execution_count": 122,
   "metadata": {},
   "outputs": [],
   "source": [
    "ratio = len(y_train2[y_train2==0])/len(y_train2[y_train2==1])"
   ]
  },
  {
   "cell_type": "code",
   "execution_count": 129,
   "metadata": {},
   "outputs": [],
   "source": [
    "ratio_min = len(y_train2[y_min_train1==0])/len(y_train2[y_min_train1==1])"
   ]
  },
  {
   "cell_type": "code",
   "execution_count": 130,
   "metadata": {},
   "outputs": [
    {
     "data": {
      "text/plain": [
       "(39.633948339483396, 0.23818983223639825)"
      ]
     },
     "execution_count": 130,
     "metadata": {},
     "output_type": "execute_result"
    }
   ],
   "source": [
    "ratio,ratio_min"
   ]
  },
  {
   "cell_type": "code",
   "execution_count": 175,
   "metadata": {},
   "outputs": [
    {
     "data": {
      "text/plain": [
       "XGBClassifier(objective='reg:logistic', scale_pos_weight=0.25)"
      ]
     },
     "execution_count": 175,
     "metadata": {},
     "output_type": "execute_result"
    }
   ],
   "source": [
    "jl.dump(xgbc_25,'D:\\\\Python Projects\\\\Stonks\\\\Tinkoff Online Trading\\\\Models\\\\xgbc_25.jl')\n",
    "jl.dump(xgbc_375,'D:\\\\Python Projects\\\\Stonks\\\\Tinkoff Online Trading\\\\Models\\\\xgbc_375.jl')\n",
    "jl.dump(xgbc_5,'D:\\\\Python Projects\\\\Stonks\\\\Tinkoff Online Trading\\\\Models\\\\xgbc_5.jl')\n",
    "jl.dump(xgbc_625,'D:\\\\Python Projects\\\\Stonks\\\\Tinkoff Online Trading\\\\Models\\\\xgbc_625.jl')\n",
    "jl.dump(xgbc_75,'D:\\\\Python Projects\\\\Stonks\\\\Tinkoff Online Trading\\\\Models\\\\xgbc_75.jl')"
   ]
  },
  {
   "cell_type": "code",
   "execution_count": 160,
   "metadata": {
    "scrolled": false
   },
   "outputs": [
    {
     "name": "stdout",
     "output_type": "stream",
     "text": [
      "_______________\n",
      "for ratio 875 tp/(tp+fp) is: 0.647\n",
      "max_avg: 0.0077\n",
      "min_avg: -0.007\n",
      "_______________\n",
      "for ratio 75 tp/(tp+fp) is: 0.727\n",
      "max_avg: 0.008\n",
      "min_avg: -0.007\n",
      "_______________\n",
      "for ratio 625 tp/(tp+fp) is: 0.769\n",
      "max_avg: 0.01\n",
      "min_avg: -0.0043\n",
      "_______________\n",
      "for ratio 5 tp/(tp+fp) is: 1.0\n",
      "max_avg: 0.0088\n",
      "min_avg: -0.0048\n",
      "_______________\n",
      "for ratio 375 tp/(tp+fp) is: 1.0\n",
      "max_avg: 0.01\n",
      "min_avg: -0.0052\n",
      "_______________\n",
      "for ratio 25 tp/(tp+fp) is: 1.0\n",
      "max_avg: 0.0087\n",
      "min_avg: -0.0042\n"
     ]
    }
   ],
   "source": [
    "xgbc_ratios = [0.25,0.375,0.5,0.625,0.75,0.875]\n",
    "conf_matrices = {}\n",
    "max_preds = []\n",
    "for ratio in xgbc_ratios[::-1]:\n",
    "    globals()['xgbc_' + str(ratio).split('.')[-1]] = xgb.XGBClassifier(objective='reg:logistic',scale_pos_weight=ratio)\n",
    "    globals()['xgbc_' + str(ratio).split('.')[-1]].fit(X_train,y_train1)\n",
    "    globals()['y_xgbc_' + str(ratio).split('.')[-1]] = globals()['xgbc_' + str(ratio).split('.')[-1]].predict(X_test)\n",
    "    max_preds.append(globals()['y_xgbc_' + str(ratio).split('.')[-1]])\n",
    "    tn, fp, fn, tp = confusion_matrix(y_test1,np.int16(np.round(globals()['y_xgbc_' + str(ratio).split('.')[-1]]))).ravel()\n",
    "    conf_matrices[ratio] = [[tp,fp],[fn,tn]]\n",
    "    print('_______________')\n",
    "    print('for ratio '+ str(ratio).split('.')[-1]+' tp/(tp+fp) is: ' + str(np.round(tp/(tp+fp),3)))\n",
    "    print('max_avg: ' + str(np.round(np.average(y_max_test[globals()['y_xgbc_' + str(ratio).split('.')[-1]]==1]),4)))\n",
    "    print('min_avg: ' + str(np.round(np.average(y_min_test[globals()['y_xgbc_' + str(ratio).split('.')[-1]]==1]),4)))"
   ]
  },
  {
   "cell_type": "code",
   "execution_count": 46,
   "metadata": {},
   "outputs": [
    {
     "name": "stdout",
     "output_type": "stream",
     "text": [
      "_______________\n",
      "confusion matrix: [[9477, 2599], [20497, 19987]]\n",
      "for ratio 25 tp/(tp+fp) is: 0.785\n",
      "max_avg: 0.001\n",
      "min_avg: -0.0011\n",
      "_______________\n",
      "confusion matrix: [[21188, 10396], [8786, 12190]]\n",
      "for ratio 5 tp/(tp+fp) is: 0.671\n",
      "max_avg: 0.0013\n",
      "min_avg: -0.0015\n",
      "_______________\n",
      "confusion matrix: [[26052, 15924], [3922, 6662]]\n",
      "for ratio 75 tp/(tp+fp) is: 0.621\n",
      "max_avg: 0.0015\n",
      "min_avg: -0.0016\n"
     ]
    }
   ],
   "source": [
    "xgbc_ratios = [0.75,0.5,0.25]\n",
    "conf_matrices = {}\n",
    "max_preds = []\n",
    "for ratio in xgbc_ratios[::-1]:\n",
    "    globals()['xgbc_min_' + str(ratio).split('.')[-1]] = xgb.XGBClassifier(objective='reg:logistic',scale_pos_weight=ratio)\n",
    "    globals()['xgbc_min_' + str(ratio).split('.')[-1]].fit(X_train,y_min_train0)\n",
    "    globals()['y_xgbc_min_' + str(ratio).split('.')[-1]] = globals()['xgbc_min_' + str(ratio).split('.')[-1]].predict(X_test)\n",
    "    max_preds.append(globals()['y_xgbc_min_' + str(ratio).split('.')[-1]])\n",
    "    tn, fp, fn, tp = confusion_matrix(y_min_test0,np.int16(np.round(globals()['y_xgbc_min_' + str(ratio).split('.')[-1]]))).ravel()\n",
    "    conf_matrices[ratio] = [[tp,fp],[fn,tn]]\n",
    "    print('_______________')\n",
    "    print('confusion matrix: '+ str(conf_matrices[ratio]))\n",
    "    print('for ratio '+ str(ratio).split('.')[-1]+' tp/(tp+fp) is: ' + str(np.round(tp/(tp+fp),3)))\n",
    "    print('max_avg: ' + str(np.round(np.average(y_max_test[globals()['y_xgbc_min_' + str(ratio).split('.')[-1]]==1]),4)))\n",
    "    print('min_avg: ' + str(np.round(np.average(y_min_test[globals()['y_xgbc_min_' + str(ratio).split('.')[-1]]==1]),4)))"
   ]
  },
  {
   "cell_type": "code",
   "execution_count": 32,
   "metadata": {},
   "outputs": [],
   "source": [
    "xgbc_5 = jl.load('D:\\\\Python Projects\\\\Stonks\\\\Tinkoff Online Trading\\\\Models\\\\xgbc_5.jl')\n",
    "xgbc_625 = jl.load('D:\\\\Python Projects\\\\Stonks\\\\Tinkoff Online Trading\\\\Models\\\\xgbc_625.jl')\n",
    "xgbc_75 = jl.load('D:\\\\Python Projects\\\\Stonks\\\\Tinkoff Online Trading\\\\Models\\\\xgbc_75.jl')"
   ]
  },
  {
   "cell_type": "code",
   "execution_count": 34,
   "metadata": {},
   "outputs": [],
   "source": [
    "y_xgbc_625 = xgbc_625.predict(X_test)\n",
    "y_xgbc_5 = xgbc_5.predict(X_test)\n",
    "y_xgbc_75 = xgbc_75.predict(X_test)"
   ]
  },
  {
   "cell_type": "code",
   "execution_count": 64,
   "metadata": {},
   "outputs": [
    {
     "name": "stdout",
     "output_type": "stream",
     "text": [
      "0.0061 0.0 1\n",
      "nan nan 0\n",
      "nan nan 0\n",
      "nan nan 0\n",
      "nan nan 0\n",
      "nan nan 0\n"
     ]
    }
   ],
   "source": [
    "# Результаты системы с двумя классификаторами\n",
    "print(np.round(np.average(y_max_test[(y_xgbc_75==1)&(y_xgbc_min_5==1)]),4),\\\n",
    "        np.round(np.average(y_min_test[(y_xgbc_75==1)&(y_xgbc_min_5==1)]),4),\\\n",
    "        len(y_max_test[(y_xgbc_75==1)&(y_xgbc_min_5==1)]))\n",
    "print(np.round(np.average(y_max_test[(y_xgbc_625==1)&(y_xgbc_min_5==1)]),4),\\\n",
    "        np.round(np.average(y_min_test[(y_xgbc_625==1)&(y_xgbc_min_5==1)]),4),\\\n",
    "        len(y_max_test[(y_xgbc_625==1)&(y_xgbc_min_5==1)]))\n",
    "print(np.round(np.average(y_max_test[(y_xgbc_5==1)&(y_xgbc_min_5==1)]),4),\\\n",
    "        np.round(np.average(y_min_test[(y_xgbc_5==1)&(y_xgbc_min_5==1)]),4),\\\n",
    "        len(y_max_test[(y_xgbc_5==1)&(y_xgbc_min_5==1)]))\n",
    "print(np.round(np.average(y_max_test[(y_xgbc_75==1)&(y_xgbc_min_25==1)]),4),\\\n",
    "        np.round(np.average(y_min_test[(y_xgbc_75==1)&(y_xgbc_min_25==1)]),4),\\\n",
    "        len(y_max_test[(y_xgbc_75==1)&(y_xgbc_min_25==1)]))\n",
    "print(np.round(np.average(y_max_test[(y_xgbc_625==1)&(y_xgbc_min_25==1)]),4),\\\n",
    "        np.round(np.average(y_min_test[(y_xgbc_625==1)&(y_xgbc_min_25==1)]),4),\\\n",
    "        len(y_max_test[(y_xgbc_625==1)&(y_xgbc_min_25==1)]))\n",
    "print(np.round(np.average(y_max_test[(y_xgbc_5==1)&(y_xgbc_min_25==1)]),4),\\\n",
    "        np.round(np.average(y_min_test[(y_xgbc_5==1)&(y_xgbc_min_25==1)]),4),\\\n",
    "        len(y_max_test[(y_xgbc_5==1)&(y_xgbc_min_25==1)]))"
   ]
  },
  {
   "cell_type": "code",
   "execution_count": 73,
   "metadata": {},
   "outputs": [
    {
     "name": "stdout",
     "output_type": "stream",
     "text": [
      "_______________\n",
      "confusion matrix: [[0, 0], [5041, 47519]]\n",
      "for ratio 5 tp/(tp+fp) is: nan\n",
      "max_avg: nan\n",
      "min_avg: nan\n"
     ]
    },
    {
     "name": "stderr",
     "output_type": "stream",
     "text": [
      "<ipython-input-73-7a6ef545f22d>:14: RuntimeWarning: invalid value encountered in longlong_scalars\n",
      "  print('for ratio '+ str(ratio).split('.')[-1]+' tp/(tp+fp) is: ' + str(np.round(tp/(tp+fp),3)))\n"
     ]
    },
    {
     "name": "stdout",
     "output_type": "stream",
     "text": [
      "_______________\n",
      "confusion matrix: [[0, 2], [5041, 47517]]\n",
      "for ratio 625 tp/(tp+fp) is: 0.0\n",
      "max_avg: 0.0121\n",
      "min_avg: -0.0109\n",
      "_______________\n",
      "confusion matrix: [[1, 1], [5040, 47518]]\n",
      "for ratio 75 tp/(tp+fp) is: 0.5\n",
      "max_avg: 0.0094\n",
      "min_avg: -0.0069\n"
     ]
    }
   ],
   "source": [
    "# Тренируем систему с одним классификатором\n",
    "xgbc_ratios = [0.75,0.625,0.5]\n",
    "conf_matrices = {}\n",
    "max_preds = []\n",
    "for ratio in xgbc_ratios[::-1]:\n",
    "    globals()['xgbc_max_min_' + str(ratio).split('.')[-1]] = xgb.XGBClassifier(objective='reg:logistic',scale_pos_weight=ratio)\n",
    "    globals()['xgbc_max_min_' + str(ratio).split('.')[-1]].fit(X_train,y_max_min_train1)\n",
    "    globals()['y_xgbc_max_min_' + str(ratio).split('.')[-1]] = globals()['xgbc_max_min_' + str(ratio).split('.')[-1]].predict(X_test)\n",
    "    max_preds.append(globals()['y_xgbc_max_min_' + str(ratio).split('.')[-1]])\n",
    "    tn, fp, fn, tp = confusion_matrix(y_max_min_test1,np.int16(np.round(globals()['y_xgbc_max_min_' + str(ratio).split('.')[-1]]))).ravel()\n",
    "    conf_matrices[ratio] = [[tp,fp],[fn,tn]]\n",
    "    print('_______________')\n",
    "    print('confusion matrix: '+ str(conf_matrices[ratio]))\n",
    "    print('for ratio '+ str(ratio).split('.')[-1]+' tp/(tp+fp) is: ' + str(np.round(tp/(tp+fp),3)))\n",
    "    print('max_avg: ' + str(np.round(np.average(y_max_test[globals()['y_xgbc_max_min_' + str(ratio).split('.')[-1]]==1]),4)))\n",
    "    print('min_avg: ' + str(np.round(np.average(y_min_test[globals()['y_xgbc_max_min_' + str(ratio).split('.')[-1]]==1]),4)))"
   ]
  },
  {
   "cell_type": "code",
   "execution_count": 74,
   "metadata": {},
   "outputs": [
    {
     "name": "stdout",
     "output_type": "stream",
     "text": [
      "0.0094 -0.0069 2\n",
      "0.0121 -0.0109 2\n",
      "nan nan 0\n"
     ]
    }
   ],
   "source": [
    "print(np.round(np.average(y_max_test[(y_xgbc_max_min_75==1)]),4),\\\n",
    "        np.round(np.average(y_min_test[(y_xgbc_max_min_75==1)]),4),\\\n",
    "        len(y_max_test[(y_xgbc_max_min_75==1)]))\n",
    "print(np.round(np.average(y_max_test[(y_xgbc_max_min_625==1)]),4),\\\n",
    "        np.round(np.average(y_min_test[(y_xgbc_max_min_625==1)]),4),\\\n",
    "        len(y_max_test[(y_xgbc_max_min_625==1)]))\n",
    "print(np.round(np.average(y_max_test[(y_xgbc_max_min_5==1)]),4),\\\n",
    "        np.round(np.average(y_min_test[(y_xgbc_max_min_5==1)]),4),\\\n",
    "        len(y_max_test[(y_xgbc_max_min_5==1)]))"
   ]
  },
  {
   "cell_type": "code",
   "execution_count": 69,
   "metadata": {},
   "outputs": [],
   "source": [
    "cbc_625 = catboost.CatBoostClassifier(class_weights=[1,0.625],verbose=False,eval_metric='BalancedAccuracy')\n",
    "cbc_5 = catboost.CatBoostClassifier(class_weights=[1,0.5],verbose=False,eval_metric='BalancedAccuracy')\n",
    "cbc_75 = catboost.CatBoostClassifier(class_weights=[1,0.75],verbose=False,eval_metric='BalancedAccuracy')\n",
    "cbc_375 = catboost.CatBoostClassifier(class_weights=[1,0.375],verbose=False,eval_metric='BalancedAccuracy')"
   ]
  },
  {
   "cell_type": "code",
   "execution_count": 85,
   "metadata": {},
   "outputs": [
    {
     "name": "stdout",
     "output_type": "stream",
     "text": [
      "256.0\n",
      "confusion matrix\n",
      "[[   27    11]\n",
      " [ 4166 48356]]\n",
      "sensitivity is %f 0.006439303601240162\n",
      "specificity is %f 0.9997725722083238\n",
      "accuracy is %f 0.9205289193302892\n",
      "balanced accuracy is % 0.503105937904782\n",
      "0.0075 -0.0048 38\n"
     ]
    }
   ],
   "source": [
    "cbc_025 = catboost.CatBoostClassifier(class_weights=[1,0.025],verbose=False,eval_metric='BalancedAccuracy')\n",
    "start_time = time.time()\n",
    "cbc_025.fit(X_train,y_train2)\n",
    "print(np.round(time.time() - start_time))\n",
    "y_cbc_025 = cbc_025.predict(X_test)\n",
    "display_summary(y_test2,np.int16(np.round(y_cbc_025)))\n",
    "print(np.round(np.average(y_max_test[(y_cbc_025==1)]),4),\\\n",
    "        np.round(np.average(y_min_test[(y_cbc_025==1)]),4),\\\n",
    "        len(y_max_test[(y_cbc_025==1)]))"
   ]
  },
  {
   "cell_type": "code",
   "execution_count": 86,
   "metadata": {},
   "outputs": [
    {
     "data": {
      "text/plain": [
       "['D:\\\\Python Projects\\\\Stonks\\\\Tinkoff Online Trading\\\\Models\\\\cbc_05.jl']"
      ]
     },
     "execution_count": 86,
     "metadata": {},
     "output_type": "execute_result"
    }
   ],
   "source": [
    "jl.dump(cbc_35,'D:\\\\Python Projects\\\\Stonks\\\\Tinkoff Online Trading\\\\Models\\\\cbc_35.jl')\n",
    "jl.dump(cbc_2,'D:\\\\Python Projects\\\\Stonks\\\\Tinkoff Online Trading\\\\Models\\\\cbc_2.jl')\n",
    "jl.dump(cbc_1,'D:\\\\Python Projects\\\\Stonks\\\\Tinkoff Online Trading\\\\Models\\\\cbc_1.jl')\n",
    "jl.dump(cbc_05,'D:\\\\Python Projects\\\\Stonks\\\\Tinkoff Online Trading\\\\Models\\\\cbc_05.jl')"
   ]
  },
  {
   "cell_type": "code",
   "execution_count": 87,
   "metadata": {
    "scrolled": true
   },
   "outputs": [
    {
     "name": "stdout",
     "output_type": "stream",
     "text": [
      "297.0\n",
      "confusion matrix\n",
      "[[    2     8]\n",
      " [ 3362 49188]]\n",
      "sensitivity is %f 0.0005945303210463733\n",
      "specificity is %f 0.9998373851532645\n",
      "accuracy is %f 0.935882800608828\n",
      "balanced accuracy is % 0.5002159577371554\n",
      "0.0094 -0.0067 10\n",
      "297.0\n",
      "confusion matrix\n",
      "[[    0     6]\n",
      " [ 3364 49190]]\n",
      "sensitivity is %f 0.0\n",
      "specificity is %f 0.9998780388649484\n",
      "accuracy is %f 0.935882800608828\n",
      "balanced accuracy is % 0.4999390194324742\n",
      "0.0093 -0.0093 6\n"
     ]
    },
    {
     "ename": "KeyboardInterrupt",
     "evalue": "",
     "output_type": "error",
     "traceback": [
      "\u001b[1;31m---------------------------------------------------------------------------\u001b[0m",
      "\u001b[1;31mKeyboardInterrupt\u001b[0m                         Traceback (most recent call last)",
      "\u001b[1;32m<ipython-input-87-ceb7877497d0>\u001b[0m in \u001b[0;36m<module>\u001b[1;34m\u001b[0m\n\u001b[0;32m     21\u001b[0m \u001b[0mcbc_05\u001b[0m \u001b[1;33m=\u001b[0m \u001b[0mcatboost\u001b[0m\u001b[1;33m.\u001b[0m\u001b[0mCatBoostClassifier\u001b[0m\u001b[1;33m(\u001b[0m\u001b[0mclass_weights\u001b[0m\u001b[1;33m=\u001b[0m\u001b[1;33m[\u001b[0m\u001b[1;36m1\u001b[0m\u001b[1;33m,\u001b[0m\u001b[1;36m0.05\u001b[0m\u001b[1;33m]\u001b[0m\u001b[1;33m,\u001b[0m\u001b[0mverbose\u001b[0m\u001b[1;33m=\u001b[0m\u001b[1;32mFalse\u001b[0m\u001b[1;33m,\u001b[0m\u001b[0meval_metric\u001b[0m\u001b[1;33m=\u001b[0m\u001b[1;34m'BalancedAccuracy'\u001b[0m\u001b[1;33m)\u001b[0m\u001b[1;33m\u001b[0m\u001b[1;33m\u001b[0m\u001b[0m\n\u001b[0;32m     22\u001b[0m \u001b[0mstart_time\u001b[0m \u001b[1;33m=\u001b[0m \u001b[0mtime\u001b[0m\u001b[1;33m.\u001b[0m\u001b[0mtime\u001b[0m\u001b[1;33m(\u001b[0m\u001b[1;33m)\u001b[0m\u001b[1;33m\u001b[0m\u001b[1;33m\u001b[0m\u001b[0m\n\u001b[1;32m---> 23\u001b[1;33m \u001b[0mcbc_05\u001b[0m\u001b[1;33m.\u001b[0m\u001b[0mfit\u001b[0m\u001b[1;33m(\u001b[0m\u001b[0mX_train\u001b[0m\u001b[1;33m,\u001b[0m\u001b[0my_max_min_train2\u001b[0m\u001b[1;33m)\u001b[0m\u001b[1;33m\u001b[0m\u001b[1;33m\u001b[0m\u001b[0m\n\u001b[0m\u001b[0;32m     24\u001b[0m \u001b[0mprint\u001b[0m\u001b[1;33m(\u001b[0m\u001b[0mnp\u001b[0m\u001b[1;33m.\u001b[0m\u001b[0mround\u001b[0m\u001b[1;33m(\u001b[0m\u001b[0mtime\u001b[0m\u001b[1;33m.\u001b[0m\u001b[0mtime\u001b[0m\u001b[1;33m(\u001b[0m\u001b[1;33m)\u001b[0m \u001b[1;33m-\u001b[0m \u001b[0mstart_time\u001b[0m\u001b[1;33m)\u001b[0m\u001b[1;33m)\u001b[0m\u001b[1;33m\u001b[0m\u001b[1;33m\u001b[0m\u001b[0m\n\u001b[0;32m     25\u001b[0m \u001b[0my_cbc_05\u001b[0m \u001b[1;33m=\u001b[0m \u001b[0mcbc_05\u001b[0m\u001b[1;33m.\u001b[0m\u001b[0mpredict\u001b[0m\u001b[1;33m(\u001b[0m\u001b[0mX_test\u001b[0m\u001b[1;33m)\u001b[0m\u001b[1;33m\u001b[0m\u001b[1;33m\u001b[0m\u001b[0m\n",
      "\u001b[1;32mc:\\python39\\lib\\site-packages\\catboost\\core.py\u001b[0m in \u001b[0;36mfit\u001b[1;34m(self, X, y, cat_features, text_features, embedding_features, sample_weight, baseline, use_best_model, eval_set, verbose, logging_level, plot, column_description, verbose_eval, metric_period, silent, early_stopping_rounds, save_snapshot, snapshot_file, snapshot_interval, init_model)\u001b[0m\n\u001b[0;32m   4537\u001b[0m             \u001b[0mself\u001b[0m\u001b[1;33m.\u001b[0m\u001b[0m_check_is_classification_objective\u001b[0m\u001b[1;33m(\u001b[0m\u001b[0mparams\u001b[0m\u001b[1;33m[\u001b[0m\u001b[1;34m'loss_function'\u001b[0m\u001b[1;33m]\u001b[0m\u001b[1;33m)\u001b[0m\u001b[1;33m\u001b[0m\u001b[1;33m\u001b[0m\u001b[0m\n\u001b[0;32m   4538\u001b[0m \u001b[1;33m\u001b[0m\u001b[0m\n\u001b[1;32m-> 4539\u001b[1;33m         self._fit(X, y, cat_features, text_features, embedding_features, None, sample_weight, None, None, None, None, baseline, use_best_model,\n\u001b[0m\u001b[0;32m   4540\u001b[0m                   \u001b[0meval_set\u001b[0m\u001b[1;33m,\u001b[0m \u001b[0mverbose\u001b[0m\u001b[1;33m,\u001b[0m \u001b[0mlogging_level\u001b[0m\u001b[1;33m,\u001b[0m \u001b[0mplot\u001b[0m\u001b[1;33m,\u001b[0m \u001b[0mcolumn_description\u001b[0m\u001b[1;33m,\u001b[0m \u001b[0mverbose_eval\u001b[0m\u001b[1;33m,\u001b[0m \u001b[0mmetric_period\u001b[0m\u001b[1;33m,\u001b[0m\u001b[1;33m\u001b[0m\u001b[1;33m\u001b[0m\u001b[0m\n\u001b[0;32m   4541\u001b[0m                   silent, early_stopping_rounds, save_snapshot, snapshot_file, snapshot_interval, init_model)\n",
      "\u001b[1;32mc:\\python39\\lib\\site-packages\\catboost\\core.py\u001b[0m in \u001b[0;36m_fit\u001b[1;34m(self, X, y, cat_features, text_features, embedding_features, pairs, sample_weight, group_id, group_weight, subgroup_id, pairs_weight, baseline, use_best_model, eval_set, verbose, logging_level, plot, column_description, verbose_eval, metric_period, silent, early_stopping_rounds, save_snapshot, snapshot_file, snapshot_interval, init_model)\u001b[0m\n\u001b[0;32m   1916\u001b[0m \u001b[1;33m\u001b[0m\u001b[0m\n\u001b[0;32m   1917\u001b[0m         \u001b[1;32mwith\u001b[0m \u001b[0mlog_fixup\u001b[0m\u001b[1;33m(\u001b[0m\u001b[1;33m)\u001b[0m\u001b[1;33m,\u001b[0m \u001b[0mplot_wrapper\u001b[0m\u001b[1;33m(\u001b[0m\u001b[0mplot\u001b[0m\u001b[1;33m,\u001b[0m \u001b[1;33m[\u001b[0m\u001b[0m_get_train_dir\u001b[0m\u001b[1;33m(\u001b[0m\u001b[0mself\u001b[0m\u001b[1;33m.\u001b[0m\u001b[0mget_params\u001b[0m\u001b[1;33m(\u001b[0m\u001b[1;33m)\u001b[0m\u001b[1;33m)\u001b[0m\u001b[1;33m]\u001b[0m\u001b[1;33m)\u001b[0m\u001b[1;33m:\u001b[0m\u001b[1;33m\u001b[0m\u001b[1;33m\u001b[0m\u001b[0m\n\u001b[1;32m-> 1918\u001b[1;33m             self._train(\n\u001b[0m\u001b[0;32m   1919\u001b[0m                 \u001b[0mtrain_pool\u001b[0m\u001b[1;33m,\u001b[0m\u001b[1;33m\u001b[0m\u001b[1;33m\u001b[0m\u001b[0m\n\u001b[0;32m   1920\u001b[0m                 \u001b[0mtrain_params\u001b[0m\u001b[1;33m[\u001b[0m\u001b[1;34m\"eval_sets\"\u001b[0m\u001b[1;33m]\u001b[0m\u001b[1;33m,\u001b[0m\u001b[1;33m\u001b[0m\u001b[1;33m\u001b[0m\u001b[0m\n",
      "\u001b[1;32mc:\\python39\\lib\\site-packages\\catboost\\core.py\u001b[0m in \u001b[0;36m_train\u001b[1;34m(self, train_pool, test_pool, params, allow_clear_pool, init_model)\u001b[0m\n\u001b[0;32m   1364\u001b[0m \u001b[1;33m\u001b[0m\u001b[0m\n\u001b[0;32m   1365\u001b[0m     \u001b[1;32mdef\u001b[0m \u001b[0m_train\u001b[0m\u001b[1;33m(\u001b[0m\u001b[0mself\u001b[0m\u001b[1;33m,\u001b[0m \u001b[0mtrain_pool\u001b[0m\u001b[1;33m,\u001b[0m \u001b[0mtest_pool\u001b[0m\u001b[1;33m,\u001b[0m \u001b[0mparams\u001b[0m\u001b[1;33m,\u001b[0m \u001b[0mallow_clear_pool\u001b[0m\u001b[1;33m,\u001b[0m \u001b[0minit_model\u001b[0m\u001b[1;33m)\u001b[0m\u001b[1;33m:\u001b[0m\u001b[1;33m\u001b[0m\u001b[1;33m\u001b[0m\u001b[0m\n\u001b[1;32m-> 1366\u001b[1;33m         \u001b[0mself\u001b[0m\u001b[1;33m.\u001b[0m\u001b[0m_object\u001b[0m\u001b[1;33m.\u001b[0m\u001b[0m_train\u001b[0m\u001b[1;33m(\u001b[0m\u001b[0mtrain_pool\u001b[0m\u001b[1;33m,\u001b[0m \u001b[0mtest_pool\u001b[0m\u001b[1;33m,\u001b[0m \u001b[0mparams\u001b[0m\u001b[1;33m,\u001b[0m \u001b[0mallow_clear_pool\u001b[0m\u001b[1;33m,\u001b[0m \u001b[0minit_model\u001b[0m\u001b[1;33m.\u001b[0m\u001b[0m_object\u001b[0m \u001b[1;32mif\u001b[0m \u001b[0minit_model\u001b[0m \u001b[1;32melse\u001b[0m \u001b[1;32mNone\u001b[0m\u001b[1;33m)\u001b[0m\u001b[1;33m\u001b[0m\u001b[1;33m\u001b[0m\u001b[0m\n\u001b[0m\u001b[0;32m   1367\u001b[0m         \u001b[0mself\u001b[0m\u001b[1;33m.\u001b[0m\u001b[0m_set_trained_model_attributes\u001b[0m\u001b[1;33m(\u001b[0m\u001b[1;33m)\u001b[0m\u001b[1;33m\u001b[0m\u001b[1;33m\u001b[0m\u001b[0m\n\u001b[0;32m   1368\u001b[0m \u001b[1;33m\u001b[0m\u001b[0m\n",
      "\u001b[1;32m_catboost.pyx\u001b[0m in \u001b[0;36m_catboost._CatBoost._train\u001b[1;34m()\u001b[0m\n",
      "\u001b[1;32m_catboost.pyx\u001b[0m in \u001b[0;36m_catboost._CatBoost._train\u001b[1;34m()\u001b[0m\n",
      "\u001b[1;31mKeyboardInterrupt\u001b[0m: "
     ]
    }
   ],
   "source": [
    "cbc_2 = catboost.CatBoostClassifier(class_weights=[1,0.2],verbose=False,eval_metric='BalancedAccuracy')\n",
    "start_time = time.time()\n",
    "cbc_2.fit(X_train,y_max_min_train2)\n",
    "print(np.round(time.time() - start_time))\n",
    "y_cbc_2 = cbc_2.predict(X_test)\n",
    "display_summary(y_max_min_test2,np.int16(np.round(y_cbc_2)))\n",
    "print(np.round(np.average(y_max_test[(y_cbc_2==1)]),4),\\\n",
    "        np.round(np.average(y_min_test[(y_cbc_2==1)]),4),\\\n",
    "        len(y_max_test[(y_cbc_2==1)]))\n",
    "\n",
    "cbc_1 = catboost.CatBoostClassifier(class_weights=[1,0.1],verbose=False,eval_metric='BalancedAccuracy')\n",
    "start_time = time.time()\n",
    "cbc_1.fit(X_train,y_max_min_train2)\n",
    "print(np.round(time.time() - start_time))\n",
    "y_cbc_1 = cbc_1.predict(X_test)\n",
    "display_summary(y_max_min_test2,np.int16(np.round(y_cbc_1)))\n",
    "print(np.round(np.average(y_max_test[(y_cbc_1==1)]),4),\\\n",
    "        np.round(np.average(y_min_test[(y_cbc_1==1)]),4),\\\n",
    "        len(y_max_test[(y_cbc_1==1)]))\n",
    "\n",
    "cbc_05 = catboost.CatBoostClassifier(class_weights=[1,0.05],verbose=False,eval_metric='BalancedAccuracy')\n",
    "start_time = time.time()\n",
    "cbc_05.fit(X_train,y_max_min_train2)\n",
    "print(np.round(time.time() - start_time))\n",
    "y_cbc_05 = cbc_05.predict(X_test)\n",
    "display_summary(y_max_min_test2,np.int16(np.round(y_cbc_05)))\n",
    "print(np.round(np.average(y_max_test[(y_cbc_05==1)]),4),\\\n",
    "        np.round(np.average(y_min_test[(y_cbc_05==1)]),4),\\\n",
    "        len(y_max_test[(y_cbc_05==1)]))"
   ]
  },
  {
   "cell_type": "code",
   "execution_count": 88,
   "metadata": {},
   "outputs": [
    {
     "name": "stdout",
     "output_type": "stream",
     "text": [
      "295.0\n",
      "confusion matrix\n",
      "[[    1    14]\n",
      " [ 3363 49182]]\n",
      "sensitivity is %f 0.00029726516052318666\n",
      "specificity is %f 0.9997154240182129\n",
      "accuracy is %f 0.9357496194824962\n",
      "balanced accuracy is % 0.500006344589368\n",
      "0.0084 -0.0073 15\n"
     ]
    }
   ],
   "source": [
    "cbc_35 = catboost.CatBoostClassifier(class_weights=[1,0.35],verbose=False,eval_metric='BalancedAccuracy')\n",
    "start_time = time.time()\n",
    "cbc_35.fit(X_train,y_max_min_train2)\n",
    "print(np.round(time.time() - start_time))\n",
    "y_cbc_35 = cbc_35.predict(X_test)\n",
    "display_summary(y_max_min_test2,np.int16(np.round(y_cbc_35)))\n",
    "print(np.round(np.average(y_max_test[(y_cbc_35==1)]),4),\\\n",
    "        np.round(np.average(y_min_test[(y_cbc_35==1)]),4),\\\n",
    "        len(y_max_test[(y_cbc_35==1)]))"
   ]
  },
  {
   "cell_type": "markdown",
   "metadata": {},
   "source": [
    "### Тесты 2021-05-14"
   ]
  },
  {
   "cell_type": "code",
   "execution_count": 33,
   "metadata": {},
   "outputs": [
    {
     "name": "stdout",
     "output_type": "stream",
     "text": [
      "confusion matrix\n",
      "[[    7    16]\n",
      " [ 4459 24082]]\n",
      "sensitivity is %f 0.001567398119122257\n",
      "specificity is %f 0.9993360444850196\n",
      "accuracy is %f 0.8433342669093964\n",
      "balanced accuracy is % 0.5004517213020709\n",
      "0.0063 -0.0181 23\n"
     ]
    }
   ],
   "source": [
    "# данные от 2021-05-13\n",
    "y_xgbc_625 = xgbc_625.predict(X_test)\n",
    "display_summary(y_test2,np.int16(np.round(y_xgbc_625)))\n",
    "print(np.round(np.average(y_max_test[(y_xgbc_625==1)]),4),\\\n",
    "        np.round(np.average(y_min_test[(y_xgbc_625==1)]),4),\\\n",
    "        len(y_max_test[(y_xgbc_625==1)]))"
   ]
  },
  {
   "cell_type": "code",
   "execution_count": 34,
   "metadata": {},
   "outputs": [],
   "source": [
    "cbc_35 = jl.load('D:\\\\Python Projects\\\\Stonks\\\\Tinkoff Online Trading\\\\Models\\\\Classifiers group of 3\\\\cbc_35.jl')\n",
    "cbc_2 = jl.load('D:\\\\Python Projects\\\\Stonks\\\\Tinkoff Online Trading\\\\Models\\\\Classifiers group of 3\\\\cbc_2.jl')\n",
    "cbc_1 = jl.load('D:\\\\Python Projects\\\\Stonks\\\\Tinkoff Online Trading\\\\Models\\\\Classifiers group of 3\\\\cbc_1.jl')"
   ]
  },
  {
   "cell_type": "code",
   "execution_count": 35,
   "metadata": {},
   "outputs": [
    {
     "name": "stdout",
     "output_type": "stream",
     "text": [
      "confusion matrix\n",
      "[[   63    44]\n",
      " [ 4403 24054]]\n",
      "sensitivity is %f 0.014106583072100314\n",
      "specificity is %f 0.9981741223338036\n",
      "accuracy is %f 0.8443145217756617\n",
      "balanced accuracy is % 0.506140352702952\n",
      "0.0083 -0.0138 107\n"
     ]
    }
   ],
   "source": [
    "# данные от 2021-05-13\n",
    "y_cbc_35 = cbc_35.predict(X_test)\n",
    "display_summary(y_test2,np.int16(np.round(y_cbc_35)))\n",
    "print(np.round(np.average(y_max_test[(y_cbc_35==1)]),4),\\\n",
    "        np.round(np.average(y_min_test[(y_cbc_35==1)]),4),\\\n",
    "        len(y_max_test[(y_cbc_35==1)]))"
   ]
  },
  {
   "cell_type": "code",
   "execution_count": 36,
   "metadata": {},
   "outputs": [
    {
     "name": "stdout",
     "output_type": "stream",
     "text": [
      "confusion matrix\n",
      "[[   56    33]\n",
      " [ 4410 24065]]\n",
      "sensitivity is %f 0.012539184952978056\n",
      "specificity is %f 0.9986305917503527\n",
      "accuracy is %f 0.8444545581851282\n",
      "balanced accuracy is % 0.5055848883516654\n",
      "0.0091 -0.0146 89\n"
     ]
    }
   ],
   "source": [
    "# данные от 2021-05-13\n",
    "y_cbc_2 = cbc_2.predict(X_test)\n",
    "display_summary(y_test2,np.int16(np.round(y_cbc_2)))\n",
    "print(np.round(np.average(y_max_test[(y_cbc_2==1)]),4),\\\n",
    "        np.round(np.average(y_min_test[(y_cbc_2==1)]),4),\\\n",
    "        len(y_max_test[(y_cbc_2==1)]))"
   ]
  },
  {
   "cell_type": "code",
   "execution_count": 37,
   "metadata": {},
   "outputs": [
    {
     "name": "stdout",
     "output_type": "stream",
     "text": [
      "confusion matrix\n",
      "[[   41    36]\n",
      " [ 4425 24062]]\n",
      "sensitivity is %f 0.009180474697716077\n",
      "specificity is %f 0.9985061000912939\n",
      "accuracy is %f 0.8438243943425291\n",
      "balanced accuracy is % 0.503843287394505\n",
      "0.0083 -0.0154 77\n"
     ]
    }
   ],
   "source": [
    "# данные от 2021-05-13\n",
    "y_cbc_1 = cbc_1.predict(X_test)\n",
    "display_summary(y_test2,np.int16(np.round(y_cbc_1)))\n",
    "print(np.round(np.average(y_max_test[(y_cbc_1==1)]),4),\\\n",
    "        np.round(np.average(y_min_test[(y_cbc_1==1)]),4),\\\n",
    "        len(y_max_test[(y_cbc_1==1)]))"
   ]
  },
  {
   "cell_type": "markdown",
   "metadata": {},
   "source": [
    "### Try to train with 30sec y"
   ]
  },
  {
   "cell_type": "code",
   "execution_count": 77,
   "metadata": {},
   "outputs": [
    {
     "name": "stdout",
     "output_type": "stream",
     "text": [
      "_______________\n",
      "confusion matrix: [[6, 19], [2811, 138815]]\n",
      "for ratio 1 tp/(tp+fp) is: 0.24\n",
      "max_avg: 0.0021\n",
      "min_avg: -0.0023\n",
      "_______________\n",
      "confusion matrix: [[0, 2], [2817, 138832]]\n",
      "for ratio 35 tp/(tp+fp) is: 0.0\n",
      "max_avg: 0.0003\n",
      "min_avg: -0.003\n",
      "_______________\n",
      "confusion matrix: [[0, 0], [2817, 138834]]\n",
      "for ratio 01 tp/(tp+fp) is: nan\n",
      "max_avg: nan\n",
      "min_avg: nan\n"
     ]
    },
    {
     "name": "stderr",
     "output_type": "stream",
     "text": [
      "<ipython-input-77-d9b9432f00a4>:13: RuntimeWarning: invalid value encountered in longlong_scalars\n",
      "  print('for ratio '+ str(ratio).split('.')[-1]+' tp/(tp+fp) is: ' + str(np.round(tp/(tp+fp),3)))\n"
     ]
    }
   ],
   "source": [
    "xgbc_ratios = [0.01,0.35,1]\n",
    "conf_matrices = {}\n",
    "max_preds = []\n",
    "for ratio in xgbc_ratios[::-1]:\n",
    "    globals()['xgbc_' + str(ratio).split('.')[-1]] = xgb.XGBClassifier(objective='reg:logistic',scale_pos_weight=ratio)\n",
    "    globals()['xgbc_' + str(ratio).split('.')[-1]].fit(X_train,y_max_min_train1)\n",
    "    globals()['y_xgbc_' + str(ratio).split('.')[-1]] = globals()['xgbc_' + str(ratio).split('.')[-1]].predict(X_test)\n",
    "    max_preds.append(globals()['y_xgbc_' + str(ratio).split('.')[-1]])\n",
    "    tn, fp, fn, tp = confusion_matrix(y_max_min_test1,np.int16(np.round(globals()['y_xgbc_' + str(ratio).split('.')[-1]]))).ravel()\n",
    "    conf_matrices[ratio] = [[tp,fp],[fn,tn]]\n",
    "    print('_______________')\n",
    "    print('confusion matrix: '+ str(conf_matrices[ratio]))\n",
    "    print('for ratio '+ str(ratio).split('.')[-1]+' tp/(tp+fp) is: ' + str(np.round(tp/(tp+fp),3)))\n",
    "    print('max_avg: ' + str(np.round(np.average(y_max_test[globals()['y_xgbc_' + str(ratio).split('.')[-1]]==1]),4)))\n",
    "    print('min_avg: ' + str(np.round(np.average(y_min_test[globals()['y_xgbc_' + str(ratio).split('.')[-1]]==1]),4)))"
   ]
  },
  {
   "cell_type": "code",
   "execution_count": 78,
   "metadata": {},
   "outputs": [
    {
     "name": "stdout",
     "output_type": "stream",
     "text": [
      "_______________\n",
      "confusion matrix: [[10, 34], [2807, 138800]]\n",
      "for ratio 1 tp/(tp+fp) is: 0.227\n",
      "max_avg: 0.0032\n",
      "min_avg: -0.0034\n",
      "_______________\n",
      "confusion matrix: [[10, 36], [2807, 138798]]\n",
      "for ratio 1 tp/(tp+fp) is: 0.217\n",
      "max_avg: 0.0035\n",
      "min_avg: -0.0026\n",
      "_______________\n",
      "confusion matrix: [[0, 3], [2817, 138831]]\n",
      "for ratio 01 tp/(tp+fp) is: 0.0\n",
      "max_avg: 0.0014\n",
      "min_avg: -0.0059\n"
     ]
    }
   ],
   "source": [
    "cbc_ratios = [0.01,0.1,1]\n",
    "conf_matrices = {}\n",
    "max_preds = []\n",
    "for ratio in cbc_ratios[::-1]:\n",
    "    globals()['cbc_' + str(ratio).split('.')[-1]] = \\\n",
    "                        catboost.CatBoostClassifier(class_weights=[1,ratio],verbose=False,eval_metric='BalancedAccuracy')\n",
    "    globals()['cbc_' + str(ratio).split('.')[-1]].fit(X_train,y_max_min_train1)\n",
    "    globals()['y_cbc_' + str(ratio).split('.')[-1]] = globals()['cbc_' + str(ratio).split('.')[-1]].predict(X_test)\n",
    "    max_preds.append(globals()['y_cbc_' + str(ratio).split('.')[-1]])\n",
    "    tn, fp, fn, tp = confusion_matrix(y_max_min_test1,np.int16(np.round(globals()['y_cbc_' + str(ratio).split('.')[-1]]))).ravel()\n",
    "    conf_matrices[ratio] = [[tp,fp],[fn,tn]]\n",
    "    print('_______________')\n",
    "    print('confusion matrix: '+ str(conf_matrices[ratio]))\n",
    "    print('for ratio '+ str(ratio).split('.')[-1]+' tp/(tp+fp) is: ' + str(np.round(tp/(tp+fp),3)))\n",
    "    print('max_avg: ' + str(np.round(np.average(y_max_test[globals()['y_cbc_' + str(ratio).split('.')[-1]]==1]),4)))\n",
    "    print('min_avg: ' + str(np.round(np.average(y_min_test[globals()['y_cbc_' + str(ratio).split('.')[-1]]==1]),4)))"
   ]
  },
  {
   "cell_type": "markdown",
   "metadata": {},
   "source": [
    "### Try to train with 1min y"
   ]
  },
  {
   "cell_type": "code",
   "execution_count": 79,
   "metadata": {},
   "outputs": [
    {
     "name": "stdout",
     "output_type": "stream",
     "text": [
      "_______________\n",
      "confusion matrix: [[3, 23], [1625, 140000]]\n",
      "for ratio 1 tp/(tp+fp) is: 0.115\n",
      "max_avg: 0.0028\n",
      "min_avg: -0.0049\n",
      "_______________\n",
      "confusion matrix: [[0, 0], [1628, 140023]]\n",
      "for ratio 1 tp/(tp+fp) is: nan\n",
      "max_avg: nan\n",
      "min_avg: nan\n"
     ]
    },
    {
     "name": "stderr",
     "output_type": "stream",
     "text": [
      "<ipython-input-79-2d39ac0468bb>:13: RuntimeWarning: invalid value encountered in longlong_scalars\n",
      "  print('for ratio '+ str(ratio).split('.')[-1]+' tp/(tp+fp) is: ' + str(np.round(tp/(tp+fp),3)))\n"
     ]
    },
    {
     "name": "stdout",
     "output_type": "stream",
     "text": [
      "_______________\n",
      "confusion matrix: [[0, 0], [1628, 140023]]\n",
      "for ratio 01 tp/(tp+fp) is: nan\n",
      "max_avg: nan\n",
      "min_avg: nan\n"
     ]
    }
   ],
   "source": [
    "xgbc_ratios = [0.01,0.1,1]\n",
    "conf_matrices = {}\n",
    "max_preds = []\n",
    "for ratio in xgbc_ratios[::-1]:\n",
    "    globals()['xgbc_' + str(ratio).split('.')[-1]] = xgb.XGBClassifier(objective='reg:logistic',scale_pos_weight=ratio)\n",
    "    globals()['xgbc_' + str(ratio).split('.')[-1]].fit(X_train,y_max_min_train2)\n",
    "    globals()['y_xgbc_' + str(ratio).split('.')[-1]] = globals()['xgbc_' + str(ratio).split('.')[-1]].predict(X_test)\n",
    "    max_preds.append(globals()['y_xgbc_' + str(ratio).split('.')[-1]])\n",
    "    tn, fp, fn, tp = confusion_matrix(y_max_min_test2,np.int16(np.round(globals()['y_xgbc_' + str(ratio).split('.')[-1]]))).ravel()\n",
    "    conf_matrices[ratio] = [[tp,fp],[fn,tn]]\n",
    "    print('_______________')\n",
    "    print('confusion matrix: '+ str(conf_matrices[ratio]))\n",
    "    print('for ratio '+ str(ratio).split('.')[-1]+' tp/(tp+fp) is: ' + str(np.round(tp/(tp+fp),3)))\n",
    "    print('max_avg: ' + str(np.round(np.average(y_max_test[globals()['y_xgbc_' + str(ratio).split('.')[-1]]==1]),4)))\n",
    "    print('min_avg: ' + str(np.round(np.average(y_min_test[globals()['y_xgbc_' + str(ratio).split('.')[-1]]==1]),4)))"
   ]
  },
  {
   "cell_type": "code",
   "execution_count": 80,
   "metadata": {},
   "outputs": [
    {
     "name": "stdout",
     "output_type": "stream",
     "text": [
      "_______________\n",
      "confusion matrix: [[1, 3], [1627, 140020]]\n",
      "for ratio 1 tp/(tp+fp) is: 0.25\n",
      "max_avg: 0.0036\n",
      "min_avg: -0.0025\n",
      "_______________\n",
      "confusion matrix: [[1, 1], [1627, 140022]]\n",
      "for ratio 1 tp/(tp+fp) is: 0.5\n",
      "max_avg: 0.0087\n",
      "min_avg: -0.0015\n",
      "_______________\n",
      "confusion matrix: [[0, 0], [1628, 140023]]\n",
      "for ratio 01 tp/(tp+fp) is: nan\n",
      "max_avg: nan\n",
      "min_avg: nan\n"
     ]
    },
    {
     "name": "stderr",
     "output_type": "stream",
     "text": [
      "<ipython-input-80-b1b45637e538>:14: RuntimeWarning: invalid value encountered in longlong_scalars\n",
      "  print('for ratio '+ str(ratio).split('.')[-1]+' tp/(tp+fp) is: ' + str(np.round(tp/(tp+fp),3)))\n"
     ]
    }
   ],
   "source": [
    "cbc_ratios = [0.01,0.1,1]\n",
    "conf_matrices = {}\n",
    "max_preds = []\n",
    "for ratio in cbc_ratios[::-1]:\n",
    "    globals()['cbc_' + str(ratio).split('.')[-1]] = \\\n",
    "                        catboost.CatBoostClassifier(class_weights=[1,ratio],verbose=False,eval_metric='BalancedAccuracy')\n",
    "    globals()['cbc_' + str(ratio).split('.')[-1]].fit(X_train,y_max_min_train2)\n",
    "    globals()['y_cbc_' + str(ratio).split('.')[-1]] = globals()['cbc_' + str(ratio).split('.')[-1]].predict(X_test)\n",
    "    max_preds.append(globals()['y_cbc_' + str(ratio).split('.')[-1]])\n",
    "    tn, fp, fn, tp = confusion_matrix(y_max_min_test2,np.int16(np.round(globals()['y_cbc_' + str(ratio).split('.')[-1]]))).ravel()\n",
    "    conf_matrices[ratio] = [[tp,fp],[fn,tn]]\n",
    "    print('_______________')\n",
    "    print('confusion matrix: '+ str(conf_matrices[ratio]))\n",
    "    print('for ratio '+ str(ratio).split('.')[-1]+' tp/(tp+fp) is: ' + str(np.round(tp/(tp+fp),3)))\n",
    "    print('max_avg: ' + str(np.round(np.average(y_max_test[globals()['y_cbc_' + str(ratio).split('.')[-1]]==1]),4)))\n",
    "    print('min_avg: ' + str(np.round(np.average(y_min_test[globals()['y_cbc_' + str(ratio).split('.')[-1]]==1]),4)))"
   ]
  }
 ],
 "metadata": {
  "colab": {
   "collapsed_sections": [
    "Z70Y9MP3-5lk",
    "ACgufpFh-5lp",
    "384PHPsE-5lt",
    "ek5bG5xX-5lw",
    "5nM1ceAI-5ly",
    "ryGtUdrm-5l7",
    "lqWmgIA8oxEW",
    "vjlXgC1T-5l8",
    "YZG29UWd-5mD"
   ],
   "name": "Orderbooks model with grouping (Test2).ipynb",
   "provenance": []
  },
  "kernelspec": {
   "display_name": "Python 3",
   "language": "python",
   "name": "python3"
  },
  "language_info": {
   "codemirror_mode": {
    "name": "ipython",
    "version": 3
   },
   "file_extension": ".py",
   "mimetype": "text/x-python",
   "name": "python",
   "nbconvert_exporter": "python",
   "pygments_lexer": "ipython3",
   "version": "3.9.0"
  }
 },
 "nbformat": 4,
 "nbformat_minor": 1
}
