{
 "cells": [
  {
   "cell_type": "code",
   "execution_count": 12,
   "metadata": {},
   "outputs": [
    {
     "data": {
      "text/plain": [
       "2"
      ]
     },
     "execution_count": 12,
     "metadata": {},
     "output_type": "execute_result"
    }
   ],
   "source": [
    "2048 % 11"
   ]
  },
  {
   "cell_type": "code",
   "execution_count": 1,
   "metadata": {},
   "outputs": [],
   "source": [
    "import numpy as np\n",
    "import pandas as pd\n",
    "import os\n",
    "os.environ['TF_CPP_MIN_LOG_LEVEL'] = '2'\n",
    "import datetime as dt\n",
    "import tensorflow as tf\n",
    "from tensorflow import keras\n",
    "from tensorflow.keras import layers\n",
    "from tqdm import tqdm\n",
    "import joblib as jl"
   ]
  },
  {
   "cell_type": "code",
   "execution_count": 2,
   "metadata": {},
   "outputs": [
    {
     "name": "stdout",
     "output_type": "stream",
     "text": [
      "113\n"
     ]
    }
   ],
   "source": [
    "# Creating list of pathes to files\n",
    "path = 'D:\\\\Python Projects\\\\Stonks\\\\Tinkoff Online Trading\\\\Data'\n",
    "\n",
    "file_paths = []\n",
    "i = 0\n",
    "for root, dirs, files in os.walk(path, topdown = False):\n",
    "    for name in files:\n",
    "        if '3 sec' in name:\n",
    "            file_paths.append(os.path.join(root, name))\n",
    "            i+=1\n",
    "print(i)"
   ]
  },
  {
   "cell_type": "code",
   "execution_count": 5,
   "metadata": {},
   "outputs": [],
   "source": [
    "df = pd.read_csv(file_paths[0])\n",
    "df.iloc[:, 0] = pd.to_datetime(df.iloc[:, 0])"
   ]
  },
  {
   "cell_type": "code",
   "execution_count": 8,
   "metadata": {},
   "outputs": [
    {
     "data": {
      "text/plain": [
       "datetime.time(10, 58, 57, 12614)"
      ]
     },
     "execution_count": 8,
     "metadata": {},
     "output_type": "execute_result"
    }
   ],
   "source": [
    "df.iloc[0,0].time() > dt.time(13,)"
   ]
  },
  {
   "cell_type": "code",
   "execution_count": 26,
   "metadata": {},
   "outputs": [
    {
     "name": "stderr",
     "output_type": "stream",
     "text": [
      "<ipython-input-26-25d2a3d657d3>:1: FutureWarning: DataFrame.mean and DataFrame.median with numeric_only=None will include datetime64 and datetime64tz columns in a future version.\n",
      "  df.iloc[3000:3060,:].mean(axis=1)\n"
     ]
    },
    {
     "data": {
      "text/plain": [
       "3000    50.007610\n",
       "3001    51.989927\n",
       "3002    53.603415\n",
       "3003    55.216902\n",
       "3004    56.825512\n",
       "3005    58.426829\n",
       "3006    60.152537\n",
       "3007    61.513683\n",
       "3008    62.874829\n",
       "3009    62.010366\n",
       "3010    61.145902\n",
       "3011    60.269244\n",
       "3012    61.116817\n",
       "3013    61.964390\n",
       "3014    62.807085\n",
       "3015    63.494902\n",
       "3016    64.076622\n",
       "3017    65.452244\n",
       "3018    66.827866\n",
       "3019    68.143634\n",
       "3020    69.758183\n",
       "3021    69.459220\n",
       "3022    70.818854\n",
       "3023    72.067378\n",
       "3024    71.593951\n",
       "3025    70.924207\n",
       "3026    70.679683\n",
       "3027    70.468244\n",
       "3028    69.711329\n",
       "3029    69.807646\n",
       "3030    69.771988\n",
       "3031    69.885195\n",
       "3032    68.159573\n",
       "3033    66.541183\n",
       "3034    65.131378\n",
       "3035    64.220366\n",
       "3036    62.971512\n",
       "3037    61.088732\n",
       "3038    59.131793\n",
       "3039    56.895378\n",
       "3040    54.980902\n",
       "3041    52.546695\n",
       "3042    50.170963\n",
       "3043    48.176427\n",
       "3044    47.616793\n",
       "3045    47.160793\n",
       "3046    45.892744\n",
       "3047    44.941537\n",
       "3048    44.769951\n",
       "3049    44.708256\n",
       "3050    44.427598\n",
       "3051    44.145537\n",
       "3052    44.117061\n",
       "3053    43.953305\n",
       "3054    43.644744\n",
       "3055    43.117512\n",
       "3056    42.796683\n",
       "3057    43.319512\n",
       "3058    44.088622\n",
       "3059    45.273951\n",
       "dtype: float64"
      ]
     },
     "execution_count": 26,
     "metadata": {},
     "output_type": "execute_result"
    }
   ],
   "source": [
    "df.iloc[3000:3060,:].mean(axis=1)"
   ]
  },
  {
   "cell_type": "code",
   "execution_count": 152,
   "metadata": {},
   "outputs": [
    {
     "name": "stdout",
     "output_type": "stream",
     "text": [
      "113/113\r"
     ]
    }
   ],
   "source": [
    "train_list, test_list = [], []\n",
    "\n",
    "for iter_num, file_path in enumerate(file_paths):\n",
    "    \n",
    "    # Cooking dataset for predicting\n",
    "    df = pd.read_csv(file_path)\n",
    "\n",
    "    # Filtering samples by time\n",
    "    df.iloc[:, 0] = pd.to_datetime(df.iloc[:, 0])\n",
    "    df = df[df.iloc[:, 0]>dt.]\n",
    "\n",
    "    # Adding shifted time to check time correctness of sample\n",
    "    df['Time_shift1'] = df.iloc[:, 0].shift(-20)\n",
    "    df['Time_shift2'] = df.iloc[:, 0].shift(-40)\n",
    "    df['Time_shift3'] = df.iloc[:, 0].shift(-60)\n",
    "\n",
    "    # Adding future prices to be able to classify sample\n",
    "    future_prices = pd.concat([df.iloc[:, 1:-3:41].shift(-20), \n",
    "                               df.iloc[:, 1:-3:41].shift(-40), \n",
    "                               df.iloc[:, 1:-3:41].shift(-60)], axis=1\n",
    "                             )\n",
    "    df['Max_3min'] = np.max(future_prices, axis=1)\n",
    "    df['Min_3min'] = np.min(future_prices, axis=1)\n",
    "\n",
    "    # Filter good samples\n",
    "    df = df[(df.iloc[:, 821] - df.iloc[:, 0] < dt.timedelta(minutes=1, seconds=1)) &\n",
    "            (df.iloc[:, 821] - df.iloc[:, 0] > dt.timedelta(minutes=0, seconds=59)) &\n",
    "            (df.iloc[:, 822] - df.iloc[:, 0] < dt.timedelta(minutes=2, seconds=1)) &\n",
    "            (df.iloc[:, 822] - df.iloc[:, 0] > dt.timedelta(minutes=1, seconds=59)) &\n",
    "            (df.iloc[:, 823] - df.iloc[:, 0] < dt.timedelta(minutes=3, seconds=1)) &\n",
    "            (df.iloc[:, 823] - df.iloc[:, 0] > dt.timedelta(minutes=2, seconds=59))\n",
    "           ]\n",
    "    df = df.dropna()\n",
    "\n",
    "    # Filtering useful columns\n",
    "    columns = [column for i, column in enumerate(df.columns) if not (('Time_shift' in column) | (i == 0))]\n",
    "    df = df[columns]\n",
    "    #df = df.astype('float32')\n",
    "\n",
    "    # Renaming columns to group them\n",
    "    new_columns = []\n",
    "    j = 0\n",
    "    group_size = 3\n",
    "    for i, col in enumerate(columns):\n",
    "        part_num = i//41\n",
    "        if 'min' in col:\n",
    "            new_columns.append(col)\n",
    "        elif i%41 == 0:\n",
    "            new_columns.append('price'+str(part_num))\n",
    "        else:\n",
    "            group_num = (i - part_num - 1) % 20 // group_size\n",
    "            is_ask = (i - part_num - 1) // 20 % 2\n",
    "            if is_ask:\n",
    "                new_columns.append('ask'+str(group_num)+'_'+str(part_num))\n",
    "            else: \n",
    "                new_columns.append('bid'+str(group_num)+'_'+str(part_num))\n",
    "\n",
    "    # Grouping columns\n",
    "    df.columns = new_columns\n",
    "    df = df.groupby(df.columns, axis=1, sort=False).sum()\n",
    "\n",
    "    # Group means\n",
    "    price_cols = [col for col in df.columns if (('price' in col) | ('min' in col))]\n",
    "    ob_cols = [col for col in df.columns if not (('price' in col) | ('min' in col))]\n",
    "    renamed_ob_cols = [col[:4] for col in ob_cols]\n",
    "    # df_test = df.copy()\n",
    "    # df_test = df_test[ob_cols]\n",
    "    # df_test.columns = renamed_ob_cols\n",
    "    # print(df_test.groupby(df_test.columns, axis=1).mean().iloc[0])\n",
    "\n",
    "    # Normalizing samples\n",
    "    df[ob_cols] = np.divide(df[ob_cols].values, df[ob_cols].mean(axis=1).values.reshape(-1,1))\n",
    "    df[price_cols] = np.divide(df[price_cols].values, df['price19'].values.reshape(-1,1)) - 1\n",
    "    \n",
    "    # Downsizing\n",
    "    df = df.values.astype('float32')\n",
    "    \n",
    "    # Adding into data\n",
    "    if '2021-06' in file_path:\n",
    "        test_list.append(df)\n",
    "    else:\n",
    "        train_list.append(df)\n",
    "    \n",
    "    print('%i/%i'%(iter_num+1, len(file_paths)), end='\\r')\n",
    "    \n",
    "train = np.vstack(train_list)\n",
    "del train_list\n",
    "test = np.vstack(test_list)\n",
    "del test_list"
   ]
  },
  {
   "cell_type": "code",
   "execution_count": 153,
   "metadata": {},
   "outputs": [
    {
     "data": {
      "text/plain": [
       "['test.jl']"
      ]
     },
     "execution_count": 153,
     "metadata": {},
     "output_type": "execute_result"
    }
   ],
   "source": [
    "jl.dump(train,'train.jl')\n",
    "jl.dump(test,'test.jl')"
   ]
  },
  {
   "cell_type": "code",
   "execution_count": 92,
   "metadata": {},
   "outputs": [],
   "source": [
    "def add_features(df):\n",
    "    # Price diffs\n",
    "    df['price_diff1'] = df.iloc[:, :1].groupby(df.index).diff(1)\n",
    "    df['price_diff2'] = df.iloc[:, :1].groupby(df.index).diff(2)\n",
    "    df['price_diff3'] = df.iloc[:, :1].groupby(df.index).diff(3)\n",
    "    df = df.fillna(0)\n",
    "    \n",
    "    # Amount of orders diff\n",
    "    df['orders_diff1'] = df.iloc[:, 1:].mean(axis=1).groupby(df.index).diff(1)\n",
    "    df['orders_diff2'] = df.iloc[:, 1:].mean(axis=1).groupby(df.index).diff(2)\n",
    "    df['orders_diff3'] = df.iloc[:, 1:].mean(axis=1).groupby(df.index).diff(3)\n",
    "    df = df.fillna(0)\n",
    "    \n",
    "    # Densities\n",
    "    df['dense_diff1'] = np.where(df['orders_diff1'] == 0, 0, df['price_diff1'] / df['orders_diff1'])\n",
    "    df['dense_diff2'] = np.where(df['orders_diff2'] == 0, 0, df['price_diff2'] / df['orders_diff2'])\n",
    "    df['dense_diff3'] = np.where(df['orders_diff3'] == 0, 0, df['price_diff3'] / df['orders_diff3'])\n",
    "    \n",
    "    return df"
   ]
  },
  {
   "cell_type": "code",
   "execution_count": 127,
   "metadata": {},
   "outputs": [
    {
     "data": {
      "text/plain": [
       "((11921, 20, 15), (11921, 2))"
      ]
     },
     "execution_count": 127,
     "metadata": {},
     "output_type": "execute_result"
    }
   ],
   "source": [
    "data = df.iloc[:, :-2]\n",
    "targets = df.iloc[:, -2:]\n",
    "idxs = np.array(list(range(targets.shape[0]))*20).reshape(20, targets.shape[0]).T.reshape(-1)\n",
    "data = pd.DataFrame(train.values.reshape(-1,15), index=idxs)\n",
    "# targets = targets.values.reshape(-1,2)\n",
    "data = data.values.reshape(-1,20,15)\n",
    "targets = targets.values\n",
    "data.shape, targets.shape"
   ]
  },
  {
   "cell_type": "code",
   "execution_count": 128,
   "metadata": {},
   "outputs": [],
   "source": [
    "train_idx, val_idx = list(range(int(targets.shape[0]*0.8))), list(range(int(targets.shape[0]*0.8)+1, targets.shape[0]))\n",
    "X_train, X_val = data[train_idx], data[val_idx]\n",
    "y_train, y_val = targets[train_idx], targets[val_idx]"
   ]
  },
  {
   "cell_type": "code",
   "execution_count": 109,
   "metadata": {},
   "outputs": [],
   "source": [
    "# LSTM\n",
    "model = keras.Sequential()\n",
    "model.add(keras.Input(shape=(None, 15)))\n",
    "model.add(layers.LSTM(256, return_sequences=False, activation='tanh'))\n",
    "model.add(layers.Dense(2))"
   ]
  },
  {
   "cell_type": "code",
   "execution_count": 111,
   "metadata": {},
   "outputs": [],
   "source": [
    "model.compile(\n",
    "    loss=keras.losses.MeanSquaredError(),\n",
    "    optimizer=keras.optimizers.Adam(learning_rate=0.001),\n",
    "    metrics=['mean_squared_error']\n",
    ")"
   ]
  },
  {
   "cell_type": "code",
   "execution_count": 129,
   "metadata": {},
   "outputs": [
    {
     "name": "stdout",
     "output_type": "stream",
     "text": [
      "Epoch 1/10\n",
      "149/149 - 14s - loss: 0.0053 - mean_squared_error: 0.0053 - 14s/epoch - 94ms/step\n",
      "Epoch 2/10\n",
      "149/149 - 11s - loss: 1.3207e-04 - mean_squared_error: 1.3207e-04 - 11s/epoch - 76ms/step\n",
      "Epoch 3/10\n",
      "149/149 - 11s - loss: 7.3130e-05 - mean_squared_error: 7.3130e-05 - 11s/epoch - 76ms/step\n",
      "Epoch 4/10\n",
      "149/149 - 12s - loss: 6.7332e-05 - mean_squared_error: 6.7332e-05 - 12s/epoch - 79ms/step\n",
      "Epoch 5/10\n",
      "149/149 - 11s - loss: 5.0169e-05 - mean_squared_error: 5.0169e-05 - 11s/epoch - 77ms/step\n",
      "Epoch 6/10\n",
      "149/149 - 13s - loss: 4.0506e-05 - mean_squared_error: 4.0506e-05 - 13s/epoch - 85ms/step\n",
      "Epoch 7/10\n",
      "149/149 - 12s - loss: 4.5434e-05 - mean_squared_error: 4.5434e-05 - 12s/epoch - 78ms/step\n",
      "Epoch 8/10\n",
      "149/149 - 12s - loss: 1.0812e-04 - mean_squared_error: 1.0812e-04 - 12s/epoch - 79ms/step\n",
      "Epoch 9/10\n",
      "149/149 - 12s - loss: 5.2261e-05 - mean_squared_error: 5.2261e-05 - 12s/epoch - 78ms/step\n",
      "Epoch 10/10\n",
      "149/149 - 12s - loss: 3.0032e-05 - mean_squared_error: 3.0032e-05 - 12s/epoch - 78ms/step\n"
     ]
    },
    {
     "data": {
      "text/plain": [
       "<keras.callbacks.History at 0x281b11d3610>"
      ]
     },
     "execution_count": 129,
     "metadata": {},
     "output_type": "execute_result"
    }
   ],
   "source": [
    "model.fit(X_train, y_train, batch_size=64, epochs=10, verbose=2)"
   ]
  },
  {
   "cell_type": "code",
   "execution_count": 130,
   "metadata": {},
   "outputs": [
    {
     "name": "stdout",
     "output_type": "stream",
     "text": [
      "38/38 - 2s - loss: 3.5492e-05 - mean_squared_error: 3.5492e-05 - 2s/epoch - 48ms/step\n"
     ]
    },
    {
     "data": {
      "text/plain": [
       "[3.549241955624893e-05, 3.549241955624893e-05]"
      ]
     },
     "execution_count": 130,
     "metadata": {},
     "output_type": "execute_result"
    }
   ],
   "source": [
    "model.evaluate(X_val, y_val, batch_size=64, verbose=2)"
   ]
  }
 ],
 "metadata": {
  "kernelspec": {
   "display_name": "Python 3",
   "language": "python",
   "name": "python3"
  },
  "language_info": {
   "codemirror_mode": {
    "name": "ipython",
    "version": 3
   },
   "file_extension": ".py",
   "mimetype": "text/x-python",
   "name": "python",
   "nbconvert_exporter": "python",
   "pygments_lexer": "ipython3",
   "version": "3.9.0"
  }
 },
 "nbformat": 4,
 "nbformat_minor": 4
}
